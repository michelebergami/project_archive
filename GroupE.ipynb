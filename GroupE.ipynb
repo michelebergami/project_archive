{
 "cells": [
  {
   "cell_type": "markdown",
   "metadata": {
    "id": "mKoSTQVi6ZiZ"
   },
   "source": [
    "# Timetabling Problem\n",
    "\n"
   ]
  },
  {
   "cell_type": "markdown",
   "metadata": {
    "id": "7-tzbUqoMpl7"
   },
   "source": [
    "The CP part of this notebook mainly draws from [this](https://developers.google.com/optimization/scheduling/job_shop?hl=en) Google guide."
   ]
  },
  {
   "cell_type": "markdown",
   "metadata": {
    "id": "f5miVSGg_FaF"
   },
   "source": [
    "The dataset used in this notebook is from the University of Brasilia and it's downloadable from [here](https://www.kaggle.com/datasets/danielefm/students-timetables-university-of-brasilia/data?select=student_timetable.csv)"
   ]
  },
  {
   "cell_type": "markdown",
   "metadata": {
    "id": "GAvZEgE_jN_K"
   },
   "source": [
    "**Note for running this code:** you must install the library (the cell below) and **restart the runtime**, so the `import` command would work as expected."
   ]
  },
  {
   "cell_type": "code",
   "execution_count": 1,
   "metadata": {
    "id": "7O4b1a_56BIl"
   },
   "outputs": [
    {
     "name": "stdout",
     "output_type": "stream",
     "text": [
      "Requirement already satisfied: ortools in /Users/michelebergami/.local/lib/python3.11/site-packages (9.8.3296)\n",
      "Requirement already satisfied: absl-py>=2.0.0 in /Users/michelebergami/.local/lib/python3.11/site-packages (from ortools) (2.0.0)\n",
      "Requirement already satisfied: numpy>=1.13.3 in /Users/michelebergami/anaconda3/lib/python3.11/site-packages (from ortools) (1.24.3)\n",
      "Requirement already satisfied: pandas>=2.0.0 in /Users/michelebergami/.local/lib/python3.11/site-packages (from ortools) (2.1.4)\n",
      "Requirement already satisfied: protobuf>=4.25.0 in /Users/michelebergami/.local/lib/python3.11/site-packages (from ortools) (4.25.1)\n",
      "Requirement already satisfied: python-dateutil>=2.8.2 in /Users/michelebergami/anaconda3/lib/python3.11/site-packages (from pandas>=2.0.0->ortools) (2.8.2)\n",
      "Requirement already satisfied: pytz>=2020.1 in /Users/michelebergami/anaconda3/lib/python3.11/site-packages (from pandas>=2.0.0->ortools) (2022.7)\n",
      "Requirement already satisfied: tzdata>=2022.1 in /Users/michelebergami/.local/lib/python3.11/site-packages (from pandas>=2.0.0->ortools) (2023.4)\n",
      "Requirement already satisfied: six>=1.5 in /Users/michelebergami/anaconda3/lib/python3.11/site-packages (from python-dateutil>=2.8.2->pandas>=2.0.0->ortools) (1.16.0)\n"
     ]
    }
   ],
   "source": [
    "!pip install --upgrade --user ortools"
   ]
  },
  {
   "cell_type": "code",
   "execution_count": 2,
   "metadata": {
    "id": "fb0WIbSvjaR1"
   },
   "outputs": [],
   "source": [
    "# Importing necessary libraries\n",
    "import pandas as pd\n",
    "import random\n",
    "import collections\n",
    "import time\n",
    "from ortools.sat.python import cp_model\n",
    "import warnings\n",
    "warnings.filterwarnings('ignore')"
   ]
  },
  {
   "cell_type": "markdown",
   "metadata": {
    "id": "OX7xlskjVR_T"
   },
   "source": [
    "The goal of this analysis is to set for each course two time-slots in a particular room following some specific constraints."
   ]
  },
  {
   "cell_type": "markdown",
   "metadata": {
    "id": "rcfLVw-6jv24"
   },
   "source": [
    "Data Preprocessing:\n",
    "In the initial stage of data preprocessing, courses associated with rooms labeled \"Missing info\" were excluded from the dataset. This decision was based on the assumption that such courses do not take place within the university, making them irrelevant for the timetabling process.\n",
    "\n",
    "Furthermore, the analysis concentrated exclusively on rooms designated with the identifier \"SALA.\" By isolating rooms with this specific identifier, the preprocessing step intended to prevent the matching of courses that inherently require designated rooms with generic or unsuitable alternatives.\n",
    "\n",
    "Throughout the whole analysis we assume that every course has 2 weekly meetings of 2 hours each (1 slot per lecture, 2 slots per course).\n",
    "\n",
    "Lastly, we isolated 10000 observation to reduce the computational time of our experiment."
   ]
  },
  {
   "cell_type": "code",
   "execution_count": 3,
   "metadata": {
    "id": "7c771xeZ061N"
   },
   "outputs": [],
   "source": [
    "df = pd.read_csv('student_timetable.csv', sep=';')\n",
    "df = df[df.room_address != 'Missing info']\n",
    "df = df[df.room_address.str.startswith('SALA')]\n",
    "df = df[10000:20000]"
   ]
  },
  {
   "cell_type": "markdown",
   "metadata": {
    "id": "7NJA-Rbx6e1R"
   },
   "source": [
    "## SEMESTER 1"
   ]
  },
  {
   "cell_type": "code",
   "execution_count": 4,
   "metadata": {
    "id": "F9ZW3hID1Bvv"
   },
   "outputs": [],
   "source": [
    "start_1 = time.time()\n",
    "semester_1 = df[df['year_semester'] == 20191]\n",
    "\n",
    "students = semester_1['student_id'].unique()\n",
    "classes = semester_1['room_address'].unique()\n",
    "courses = semester_1['course'].unique()\n",
    "n_courses_1 = len(courses)\n",
    "slots = ['Monday 8-10', 'Monday 10-12', 'Monday 12-14', 'Monday 14-16', 'Monday 16-18',\n",
    "         'Tuesday 8-10', 'Tuesday 10-12', 'Tuesday 12-14', 'Tuesday 14-16', 'Tuesday 16-18',\n",
    "         'Wednesday 8-10', 'Wednesday 10-12', 'Wednesday 12-14', 'Wednesday 14-16', 'Wednesday 16-18',\n",
    "         'Thursday 8-10', 'Thursday 10-12', 'Thursday 12-14', 'Thursday 14-16', 'Thursday 16-18',\n",
    "         'Friday 8-10', 'Friday 10-12', 'Friday 12-14', 'Friday 14-16', 'Friday 16-18']\n",
    "\n",
    "timetable = pd.DataFrame(columns=classes, index=slots)\n",
    "semester_1['course_ind'] = 0\n",
    "# creating new variable to keep the indices of each course\n",
    "for ind in range(len(courses)):\n",
    "    semester_1['course_ind'].iloc[semester_1['course'] == courses[ind]] = ind\n"
   ]
  },
  {
   "cell_type": "markdown",
   "metadata": {
    "id": "_pWGq96EVzT8"
   },
   "source": [
    "Every student can have only one lesson for time-slot, so there are some courses that necessarly have to be in different timeslots.\n",
    "\n",
    "A dictionary is created to keep track of these conflicts for each course:"
   ]
  },
  {
   "cell_type": "code",
   "execution_count": 5,
   "metadata": {
    "id": "p2sTzQ70VMA0"
   },
   "outputs": [],
   "source": [
    "def check_no_course(a, course): # return the list a without the value 'course' inside\n",
    "    final = []\n",
    "    for elem in a:\n",
    "        if elem != course:\n",
    "            final.append(elem)\n",
    "    return final\n",
    "\n",
    "course_indices = semester_1['course_ind'].unique()\n",
    "conflict_dict = {}\n",
    "\n",
    "for course in course_indices:\n",
    "    temp = semester_1[semester_1['course_ind'] == course]\n",
    "    for student in temp['student_id'].unique():\n",
    "        if course not in conflict_dict.keys():\n",
    "            other_courses = list(semester_1['course_ind'][semester_1['student_id'] == student].unique())\n",
    "            conflict_dict[course] = check_no_course(other_courses, course)\n",
    "        else:\n",
    "            other_courses = list(semester_1['course_ind'][semester_1['student_id'] == student].unique())\n",
    "            conflict_dict[course] = conflict_dict[course] + check_no_course(other_courses, course)\n",
    "\n",
    "for j in conflict_dict:\n",
    "    conflict_dict[j] = list(set(conflict_dict[j]))"
   ]
  },
  {
   "cell_type": "markdown",
   "metadata": {
    "id": "k4GPtOIqkwtj"
   },
   "source": [
    "Creating and using a CP solver from the OR-Tools library a solution is found:"
   ]
  },
  {
   "cell_type": "code",
   "execution_count": 6,
   "metadata": {
    "colab": {
     "base_uri": "https://localhost:8080/"
    },
    "id": "g_Zeh7Rb3aGp",
    "outputId": "10b3dca7-e91c-45a1-bdb3-ad47e9cc42da"
   },
   "outputs": [
    {
     "name": "stdout",
     "output_type": "stream",
     "text": [
      "  - conflicts: 0\n",
      "  - wall time: 0.700986 s\n"
     ]
    }
   ],
   "source": [
    "# Main code for solving the timetable problem\n",
    "timetable_s1 = pd.DataFrame(columns = slots, index = range(len(classes)))\n",
    "rooms = []\n",
    "random_room = 0\n",
    "\n",
    "# Problem data\n",
    "lessons_data = []\n",
    "for ind1 in range(len(courses)):\n",
    "    room_assignments = []\n",
    "    for ind2 in range(2): # 4 hours per week for lesson\n",
    "        random_room = random.sample(range(len(classes)), 1)[0]\n",
    "        room_assignments.append((random_room, 1))\n",
    "\n",
    "    lessons_data.append(room_assignments)\n",
    "\n",
    "\n",
    "classes_count = 1 + max(task[0] for lesson in lessons_data for task in lesson)\n",
    "\n",
    "all_classes = range(classes_count)\n",
    "\n",
    "horizon = 25\n",
    "\n",
    "\n",
    "# create the model\n",
    "model = cp_model.CpModel()\n",
    "\n",
    "# namedtuple to store information about created variables\n",
    "number_type = collections.namedtuple('number_type', 'start end interval')\n",
    "# namedtuple to manipulate solution information\n",
    "assigned_number_type = collections.namedtuple('assigned_number_type',\n",
    "                                            'start lesson index duration')\n",
    "\n",
    "# creates lesson intervals and add to the corresponding classes lists\n",
    "all_numbers = {}\n",
    "class_to_interval = collections.defaultdict(list)\n",
    "\n",
    "for lesson_id, lesson in enumerate(lessons_data):\n",
    "    for number_id, number in enumerate(lesson):\n",
    "        classs = number[0]\n",
    "        duration = number[1]\n",
    "        suffix = '_%i_%i' % (lesson_id, number_id)\n",
    "        start_var = model.NewIntVar(0, horizon, 'start' + suffix)\n",
    "        end_var = model.NewIntVar(0, horizon, 'end' + suffix)\n",
    "        interval_var = model.NewIntervalVar(start_var, duration, end_var,\n",
    "                                            'interval' + suffix)\n",
    "        all_numbers[lesson_id, number_id] = number_type(start=start_var,\n",
    "                                                end=end_var,\n",
    "                                                interval=interval_var)\n",
    "        class_to_interval[classs].append(interval_var)\n",
    "\n",
    "# create and add disjunctive constraints\n",
    "for classs in all_classes:\n",
    "    model.AddNoOverlap(class_to_interval[classs])\n",
    "\n",
    "\n",
    "# add precedence constraints -> precedences between lessons\n",
    "for lesson_id, lesson in enumerate(lessons_data):\n",
    "    for i in conflict_dict[lesson_id]:\n",
    "        model.Add(all_numbers[lesson_id, 0].start != all_numbers[i, 0].start)\n",
    "    for number_id in range(len(lesson) - 1):\n",
    "        model.Add(all_numbers[lesson_id, number_id + 1].start >= all_numbers[lesson_id, number_id].end)\n",
    "\n",
    "\n",
    "# no conflicts constraint\n",
    "for elem in conflict_dict:\n",
    "    for i in conflict_dict[elem]:\n",
    "        model.Add(all_numbers[elem, 0].start != all_numbers[i, 0].start)\n",
    "        model.Add(all_numbers[elem, 0].start != all_numbers[i, 1].start)\n",
    "        model.Add(all_numbers[elem, 1].start != all_numbers[i, 0].start)\n",
    "        model.Add(all_numbers[elem, 1].start != all_numbers[i, 1].start)\n",
    "\n",
    "\n",
    "# creates the solver and solve\n",
    "solver = cp_model.CpSolver()\n",
    "status = solver.Solve(model)\n",
    "\n",
    "if status == cp_model.OPTIMAL:\n",
    "    # create one list of assigned numbers per class\n",
    "    assigned_lessons = collections.defaultdict(list)\n",
    "    for lesson_id, lesson in enumerate(lessons_data):\n",
    "        for number_id, number in enumerate(lesson):\n",
    "            classs = number[0]\n",
    "            assigned_lessons[classs].append(\n",
    "                assigned_number_type(start=solver.Value(\n",
    "                    all_numbers[lesson_id, number_id].start),\n",
    "                                    lesson=lesson_id,\n",
    "                                    index=number_id,\n",
    "                                    duration=number[1]))\n",
    "\n",
    "\n",
    "    for classs in all_classes:\n",
    "        # sort by starting time\n",
    "        assigned_lessons[classs].sort()\n",
    "        row = []\n",
    "        for assigned_number in assigned_lessons[classs]:\n",
    "            row.append([assigned_number.lesson, assigned_number.start])\n",
    "\n",
    "            start = assigned_number.start\n",
    "            duration = assigned_number.duration\n",
    "\n",
    "        for elem in row:\n",
    "            timetable_s1.iloc[classs, elem[1]] = elem[0]\n",
    "\n",
    "\n",
    "\n",
    "    print('  - conflicts: %i' % solver.NumConflicts())\n",
    "    print('  - wall time: %f s' % solver.WallTime())\n",
    "else:\n",
    "    print('No solution found.')\n",
    "\n"
   ]
  },
  {
   "cell_type": "code",
   "execution_count": 7,
   "metadata": {
    "id": "RxMKjXL16kck"
   },
   "outputs": [],
   "source": [
    "timetable_s1 = timetable_s1.transpose()"
   ]
  },
  {
   "cell_type": "markdown",
   "metadata": {
    "id": "f0Cz2jfPk-dW"
   },
   "source": [
    "From the index the real name of the classes is returned:"
   ]
  },
  {
   "cell_type": "code",
   "execution_count": 8,
   "metadata": {
    "id": "lA6gaJo-6uY2"
   },
   "outputs": [],
   "source": [
    "timetable_s1.columns = classes\n",
    "for i in range(len(timetable_s1)):\n",
    "  for j in range(len(classes)):\n",
    "    if not pd.isna(timetable_s1.iloc[i,j]):\n",
    "      timetable_s1.iloc[i,j] = courses[timetable_s1.iloc[i,j]]\n",
    "    else:\n",
    "      timetable_s1.iloc[i,j] = '*'"
   ]
  },
  {
   "cell_type": "markdown",
   "metadata": {
    "id": "aBoVVl8elHX7"
   },
   "source": [
    "A function that gives a value to each timetable based on some soft constraints as having courses of two adjacent time slots and having free afternoons"
   ]
  },
  {
   "cell_type": "code",
   "execution_count": 9,
   "metadata": {
    "id": "GqCcj3si67Bd"
   },
   "outputs": [],
   "source": [
    "def check_soft(tt):\n",
    "  val = 0\n",
    "  for i in range(25):\n",
    "    for j in range(len(classes)):\n",
    "      if i % 5 != 4:\n",
    "        if tt.iloc[i,j] == tt.iloc[i+1,j]: # preferrably having courses of two adjacent time slots (not on different days)\n",
    "          val += 0.1\n",
    "      if i % 5 == 4 or i % 5 == 3: # preferrably having free afternoons\n",
    "        if tt.iloc[i,j] == '*':\n",
    "          val += 1\n",
    "  return val"
   ]
  },
  {
   "cell_type": "markdown",
   "metadata": {
    "id": "YT_ZiaZ6lZi7"
   },
   "source": [
    "Permutating 500 times the rows of the dataset the timetable with a higher value for soft constraints it is chosen"
   ]
  },
  {
   "cell_type": "code",
   "execution_count": 10,
   "metadata": {
    "id": "5g79_Trh6-gc"
   },
   "outputs": [
    {
     "data": {
      "text/html": [
       "<div>\n",
       "<style scoped>\n",
       "    .dataframe tbody tr th:only-of-type {\n",
       "        vertical-align: middle;\n",
       "    }\n",
       "\n",
       "    .dataframe tbody tr th {\n",
       "        vertical-align: top;\n",
       "    }\n",
       "\n",
       "    .dataframe thead th {\n",
       "        text-align: right;\n",
       "    }\n",
       "</style>\n",
       "<table border=\"1\" class=\"dataframe\">\n",
       "  <thead>\n",
       "    <tr style=\"text-align: right;\">\n",
       "      <th></th>\n",
       "      <th>SALA PJC BT 132</th>\n",
       "      <th>SALA PAT AT 021</th>\n",
       "      <th>SALA PJC BT 100</th>\n",
       "      <th>SALA BSA B2 34/10</th>\n",
       "    </tr>\n",
       "  </thead>\n",
       "  <tbody>\n",
       "    <tr>\n",
       "      <th>Monday 8-10</th>\n",
       "      <td>*</td>\n",
       "      <td>*</td>\n",
       "      <td>*</td>\n",
       "      <td>Heat Transport And Pasta</td>\n",
       "    </tr>\n",
       "    <tr>\n",
       "      <th>Monday 10-12</th>\n",
       "      <td>Economy From Brazil Contemporary</td>\n",
       "      <td>*</td>\n",
       "      <td>*</td>\n",
       "      <td>Aesthetics And Art Of Philosophy</td>\n",
       "    </tr>\n",
       "    <tr>\n",
       "      <th>Monday 12-14</th>\n",
       "      <td>*</td>\n",
       "      <td>Philosophy Of Law</td>\n",
       "      <td>*</td>\n",
       "      <td>Text Lab 2</td>\n",
       "    </tr>\n",
       "    <tr>\n",
       "      <th>Monday 14-16</th>\n",
       "      <td>Computer Security</td>\n",
       "      <td>*</td>\n",
       "      <td>*</td>\n",
       "      <td>*</td>\n",
       "    </tr>\n",
       "    <tr>\n",
       "      <th>Monday 16-18</th>\n",
       "      <td>General Economic History</td>\n",
       "      <td>*</td>\n",
       "      <td>Society, Culture And Politics In The Americas</td>\n",
       "      <td>*</td>\n",
       "    </tr>\n",
       "    <tr>\n",
       "      <th>Tuesday 8-10</th>\n",
       "      <td>Plant Physiology</td>\n",
       "      <td>*</td>\n",
       "      <td>Soil Fertility And Fertilization</td>\n",
       "      <td>Forest Harvesting And Transport</td>\n",
       "    </tr>\n",
       "    <tr>\n",
       "      <th>Tuesday 10-12</th>\n",
       "      <td>Management Technologies And Management In Health</td>\n",
       "      <td>*</td>\n",
       "      <td>The Physiotherapy Practice Based On Problems</td>\n",
       "      <td>*</td>\n",
       "    </tr>\n",
       "    <tr>\n",
       "      <th>Tuesday 12-14</th>\n",
       "      <td>*</td>\n",
       "      <td>*</td>\n",
       "      <td>In Internship 1 Social Services</td>\n",
       "      <td>Metabolism And Development Plant</td>\n",
       "    </tr>\n",
       "    <tr>\n",
       "      <th>Tuesday 14-16</th>\n",
       "      <td>*</td>\n",
       "      <td>Palaeoceanography And Paleoclimate</td>\n",
       "      <td>*</td>\n",
       "      <td>Applied Thermodynamics</td>\n",
       "    </tr>\n",
       "    <tr>\n",
       "      <th>Tuesday 16-18</th>\n",
       "      <td>*</td>\n",
       "      <td>Applied Thermodynamics</td>\n",
       "      <td>Trauma And Prosthesis Oral And Maxillofacial</td>\n",
       "      <td>*</td>\n",
       "    </tr>\n",
       "    <tr>\n",
       "      <th>Wednesday 8-10</th>\n",
       "      <td>Clinical Nutrition And Diet Therapy 2</td>\n",
       "      <td>Chemical Reactions And The Environment</td>\n",
       "      <td>*</td>\n",
       "      <td>*</td>\n",
       "    </tr>\n",
       "    <tr>\n",
       "      <th>Wednesday 10-12</th>\n",
       "      <td>Basic Inorganic Chemistry</td>\n",
       "      <td>Italian Language 1</td>\n",
       "      <td>*</td>\n",
       "      <td>*</td>\n",
       "    </tr>\n",
       "    <tr>\n",
       "      <th>Wednesday 12-14</th>\n",
       "      <td>Geography Of Religion</td>\n",
       "      <td>Commercial Accounting</td>\n",
       "      <td>Vacuum Technology</td>\n",
       "      <td>*</td>\n",
       "    </tr>\n",
       "    <tr>\n",
       "      <th>Wednesday 14-16</th>\n",
       "      <td>*</td>\n",
       "      <td>*</td>\n",
       "      <td>Speech In The Third Life Cycle</td>\n",
       "      <td>Animal Diversity</td>\n",
       "    </tr>\n",
       "    <tr>\n",
       "      <th>Wednesday 16-18</th>\n",
       "      <td>*</td>\n",
       "      <td>*</td>\n",
       "      <td>*</td>\n",
       "      <td>*</td>\n",
       "    </tr>\n",
       "    <tr>\n",
       "      <th>Thursday 8-10</th>\n",
       "      <td>*</td>\n",
       "      <td>Practices Of Health</td>\n",
       "      <td>Contemporary History 1</td>\n",
       "      <td>*</td>\n",
       "    </tr>\n",
       "    <tr>\n",
       "      <th>Thursday 10-12</th>\n",
       "      <td>*</td>\n",
       "      <td>*</td>\n",
       "      <td>National Accounting</td>\n",
       "      <td>*</td>\n",
       "    </tr>\n",
       "    <tr>\n",
       "      <th>Thursday 12-14</th>\n",
       "      <td>*</td>\n",
       "      <td>Hydrogeology</td>\n",
       "      <td>*</td>\n",
       "      <td>Museology And Communication 1</td>\n",
       "    </tr>\n",
       "    <tr>\n",
       "      <th>Thursday 14-16</th>\n",
       "      <td>*</td>\n",
       "      <td>*</td>\n",
       "      <td>Criminal Procedural Law 2</td>\n",
       "      <td>Antennas</td>\n",
       "    </tr>\n",
       "    <tr>\n",
       "      <th>Thursday 16-18</th>\n",
       "      <td>*</td>\n",
       "      <td>*</td>\n",
       "      <td>*</td>\n",
       "      <td>*</td>\n",
       "    </tr>\n",
       "    <tr>\n",
       "      <th>Friday 8-10</th>\n",
       "      <td>*</td>\n",
       "      <td>Microeconomics Environmental</td>\n",
       "      <td>English Instrumental 2</td>\n",
       "      <td>Social And Environmental Responsibility Manage...</td>\n",
       "    </tr>\n",
       "    <tr>\n",
       "      <th>Friday 10-12</th>\n",
       "      <td>*</td>\n",
       "      <td>*</td>\n",
       "      <td>Scientific Methodology</td>\n",
       "      <td>Operations Research 1</td>\n",
       "    </tr>\n",
       "    <tr>\n",
       "      <th>Friday 12-14</th>\n",
       "      <td>*</td>\n",
       "      <td>Plant Management Weeds</td>\n",
       "      <td>Theory, Criticism And Art History 1</td>\n",
       "      <td>*</td>\n",
       "    </tr>\n",
       "    <tr>\n",
       "      <th>Friday 14-16</th>\n",
       "      <td>*</td>\n",
       "      <td>*</td>\n",
       "      <td>*</td>\n",
       "      <td>Processing Real-Time</td>\n",
       "    </tr>\n",
       "    <tr>\n",
       "      <th>Friday 16-18</th>\n",
       "      <td>Special Topics In Communication 6</td>\n",
       "      <td>*</td>\n",
       "      <td>*</td>\n",
       "      <td>*</td>\n",
       "    </tr>\n",
       "  </tbody>\n",
       "</table>\n",
       "</div>"
      ],
      "text/plain": [
       "                SALA PJC BT 132                                     \\\n",
       "Monday 8-10                                                      *   \n",
       "Monday 10-12                      Economy From Brazil Contemporary   \n",
       "Monday 12-14                                                     *   \n",
       "Monday 14-16                                     Computer Security   \n",
       "Monday 16-18                              General Economic History   \n",
       "Tuesday 8-10                                      Plant Physiology   \n",
       "Tuesday 10-12     Management Technologies And Management In Health   \n",
       "Tuesday 12-14                                                    *   \n",
       "Tuesday 14-16                                                    *   \n",
       "Tuesday 16-18                                                    *   \n",
       "Wednesday 8-10               Clinical Nutrition And Diet Therapy 2   \n",
       "Wednesday 10-12                          Basic Inorganic Chemistry   \n",
       "Wednesday 12-14                              Geography Of Religion   \n",
       "Wednesday 14-16                                                  *   \n",
       "Wednesday 16-18                                                  *   \n",
       "Thursday 8-10                                                    *   \n",
       "Thursday 10-12                                                   *   \n",
       "Thursday 12-14                                                   *   \n",
       "Thursday 14-16                                                   *   \n",
       "Thursday 16-18                                                   *   \n",
       "Friday 8-10                                                      *   \n",
       "Friday 10-12                                                     *   \n",
       "Friday 12-14                                                     *   \n",
       "Friday 14-16                                                     *   \n",
       "Friday 16-18                     Special Topics In Communication 6   \n",
       "\n",
       "                SALA PAT AT 021                                     \\\n",
       "Monday 8-10                                                      *   \n",
       "Monday 10-12                                                     *   \n",
       "Monday 12-14                                     Philosophy Of Law   \n",
       "Monday 14-16                                                     *   \n",
       "Monday 16-18                                                     *   \n",
       "Tuesday 8-10                                                     *   \n",
       "Tuesday 10-12                                                    *   \n",
       "Tuesday 12-14                                                    *   \n",
       "Tuesday 14-16                   Palaeoceanography And Paleoclimate   \n",
       "Tuesday 16-18                               Applied Thermodynamics   \n",
       "Wednesday 8-10              Chemical Reactions And The Environment   \n",
       "Wednesday 10-12                                 Italian Language 1   \n",
       "Wednesday 12-14                              Commercial Accounting   \n",
       "Wednesday 14-16                                                  *   \n",
       "Wednesday 16-18                                                  *   \n",
       "Thursday 8-10                                  Practices Of Health   \n",
       "Thursday 10-12                                                   *   \n",
       "Thursday 12-14                                        Hydrogeology   \n",
       "Thursday 14-16                                                   *   \n",
       "Thursday 16-18                                                   *   \n",
       "Friday 8-10                           Microeconomics Environmental   \n",
       "Friday 10-12                                                     *   \n",
       "Friday 12-14                                Plant Management Weeds   \n",
       "Friday 14-16                                                     *   \n",
       "Friday 16-18                                                     *   \n",
       "\n",
       "                SALA PJC BT 100                                     \\\n",
       "Monday 8-10                                                      *   \n",
       "Monday 10-12                                                     *   \n",
       "Monday 12-14                                                     *   \n",
       "Monday 14-16                                                     *   \n",
       "Monday 16-18         Society, Culture And Politics In The Americas   \n",
       "Tuesday 8-10                      Soil Fertility And Fertilization   \n",
       "Tuesday 10-12         The Physiotherapy Practice Based On Problems   \n",
       "Tuesday 12-14                      In Internship 1 Social Services   \n",
       "Tuesday 14-16                                                    *   \n",
       "Tuesday 16-18         Trauma And Prosthesis Oral And Maxillofacial   \n",
       "Wednesday 8-10                                                   *   \n",
       "Wednesday 10-12                                                  *   \n",
       "Wednesday 12-14                                  Vacuum Technology   \n",
       "Wednesday 14-16                     Speech In The Third Life Cycle   \n",
       "Wednesday 16-18                                                  *   \n",
       "Thursday 8-10                               Contemporary History 1   \n",
       "Thursday 10-12                                 National Accounting   \n",
       "Thursday 12-14                                                   *   \n",
       "Thursday 14-16                           Criminal Procedural Law 2   \n",
       "Thursday 16-18                                                   *   \n",
       "Friday 8-10                                 English Instrumental 2   \n",
       "Friday 10-12                                Scientific Methodology   \n",
       "Friday 12-14                   Theory, Criticism And Art History 1   \n",
       "Friday 14-16                                                     *   \n",
       "Friday 16-18                                                     *   \n",
       "\n",
       "                                                 SALA BSA B2 34/10  \n",
       "Monday 8-10                               Heat Transport And Pasta  \n",
       "Monday 10-12                      Aesthetics And Art Of Philosophy  \n",
       "Monday 12-14                                            Text Lab 2  \n",
       "Monday 14-16                                                     *  \n",
       "Monday 16-18                                                     *  \n",
       "Tuesday 8-10                       Forest Harvesting And Transport  \n",
       "Tuesday 10-12                                                    *  \n",
       "Tuesday 12-14                     Metabolism And Development Plant  \n",
       "Tuesday 14-16                               Applied Thermodynamics  \n",
       "Tuesday 16-18                                                    *  \n",
       "Wednesday 8-10                                                   *  \n",
       "Wednesday 10-12                                                  *  \n",
       "Wednesday 12-14                                                  *  \n",
       "Wednesday 14-16                                   Animal Diversity  \n",
       "Wednesday 16-18                                                  *  \n",
       "Thursday 8-10                                                    *  \n",
       "Thursday 10-12                                                   *  \n",
       "Thursday 12-14                       Museology And Communication 1  \n",
       "Thursday 14-16                                            Antennas  \n",
       "Thursday 16-18                                                   *  \n",
       "Friday 8-10      Social And Environmental Responsibility Manage...  \n",
       "Friday 10-12                                 Operations Research 1  \n",
       "Friday 12-14                                                     *  \n",
       "Friday 14-16                                  Processing Real-Time  \n",
       "Friday 16-18                                                     *  "
      ]
     },
     "execution_count": 10,
     "metadata": {},
     "output_type": "execute_result"
    }
   ],
   "source": [
    "new_tt = timetable_s1.copy() # working timetable\n",
    "\n",
    "final_tt1 = timetable_s1.copy() # final timetable\n",
    "current = check_soft(final_tt1) # value of the final\n",
    "\n",
    "for tts in range(100):\n",
    "  new = random.sample(range(25), 25) # random permutation\n",
    "  for i in range(25):\n",
    "    new_tt.iloc[i] = timetable_s1.iloc[new[i]]\n",
    "  value = check_soft(new_tt) # checking the value of the permutation\n",
    "  if value > current: # saving it if it's better\n",
    "    final_tt1 = new_tt.copy()\n",
    "    current = value\n",
    "\n",
    "end_1 = time.time()\n",
    "final_tt1.iloc[:,0:4]"
   ]
  },
  {
   "cell_type": "markdown",
   "metadata": {
    "id": "TXhmbxyeG-eH"
   },
   "source": [
    "## SEMESTER 2"
   ]
  },
  {
   "cell_type": "markdown",
   "metadata": {
    "id": "Kvj7P84Rln-F"
   },
   "source": [
    "Doing the same thing for semester 2"
   ]
  },
  {
   "cell_type": "code",
   "execution_count": 11,
   "metadata": {
    "id": "cMg4ONs2G-eI"
   },
   "outputs": [],
   "source": [
    "start_2 = time.time()\n",
    "semester_2 = df[df['year_semester'] == 20192]\n",
    "\n",
    "students = semester_2['student_id'].unique()\n",
    "classes = semester_2['room_address'].unique()\n",
    "courses = semester_2['course'].unique()\n",
    "n_courses_2 = len(courses)\n",
    "\n",
    "\n",
    "semester_2['course_ind'] = 0\n",
    "for ind in range(len(courses)):\n",
    "    semester_2['course_ind'].iloc[semester_2['course'] == courses[ind]] = ind\n"
   ]
  },
  {
   "cell_type": "code",
   "execution_count": 12,
   "metadata": {
    "id": "vYksx_gQG-eI"
   },
   "outputs": [],
   "source": [
    "course_indices = semester_2['course_ind'].unique()\n",
    "conflict_dict = {}\n",
    "for course in course_indices:\n",
    "    temp = semester_2[semester_2['course_ind'] == course]\n",
    "    for student in temp['student_id'].unique():\n",
    "        if course not in conflict_dict.keys():\n",
    "            other_courses = list(semester_2['course_ind'][semester_2['student_id'] == student].unique())\n",
    "            conflict_dict[course] = check_no_course(other_courses, course)\n",
    "        else:\n",
    "            other_courses = list(semester_2['course_ind'][semester_2['student_id'] == student].unique())\n",
    "            conflict_dict[course] = conflict_dict[course] + check_no_course(other_courses, course)\n",
    "\n",
    "for j in conflict_dict:\n",
    "    conflict_dict[j] = list(set(conflict_dict[j]))\n"
   ]
  },
  {
   "cell_type": "code",
   "execution_count": 13,
   "metadata": {
    "id": "SjI18akiG-eJ"
   },
   "outputs": [
    {
     "name": "stdout",
     "output_type": "stream",
     "text": [
      "  - conflicts: 1\n",
      "  - wall time: 0.617696 s\n"
     ]
    }
   ],
   "source": [
    "timetable_s2 = pd.DataFrame(columns = slots, index = range(len(classes)))\n",
    "rooms = []\n",
    "random_room = 0\n",
    "\n",
    "# Problem data\n",
    "lessons_data = []\n",
    "for ind1 in range(len(courses)):\n",
    "    room_assignments = []\n",
    "    for ind2 in range(2): # 4 hours per week for lesson\n",
    "        random_room = random.sample(range(len(classes)), 1)[0]\n",
    "        room_assignments.append((random_room, 1))\n",
    "\n",
    "    lessons_data.append(room_assignments)\n",
    "\n",
    "\n",
    "classes_count = 1 + max(number[0] for lesson in lessons_data for number in lesson)\n",
    "\n",
    "all_classes = range(classes_count)\n",
    "\n",
    "horizon = 25\n",
    "\n",
    "\n",
    "# create the model\n",
    "model = cp_model.CpModel()\n",
    "\n",
    "# namedtuple to store information about created variables\n",
    "number_type = collections.namedtuple('number_type', 'start end interval')\n",
    "# namedtuple to manipulate solution information\n",
    "assigned_number_type = collections.namedtuple('assigned_number_type',\n",
    "                                            'start lesson index duration')\n",
    "\n",
    "# creates lesson intervals and add to the corresponding classes lists\n",
    "all_numbers = {}\n",
    "class_to_interval = collections.defaultdict(list)\n",
    "\n",
    "for lesson_id, lesson in enumerate(lessons_data):\n",
    "    for number_id, number in enumerate(lesson):\n",
    "        classs = number[0]\n",
    "        duration = number[1]\n",
    "        suffix = '_%i_%i' % (lesson_id, number_id)\n",
    "        start_var = model.NewIntVar(0, horizon, 'start' + suffix)\n",
    "        end_var = model.NewIntVar(0, horizon, 'end' + suffix)\n",
    "        interval_var = model.NewIntervalVar(start_var, duration, end_var,\n",
    "                                            'interval' + suffix)\n",
    "        all_numbers[lesson_id, number_id] = number_type(start=start_var,\n",
    "                                                end=end_var,\n",
    "                                                interval=interval_var)\n",
    "        class_to_interval[classs].append(interval_var)\n",
    "\n",
    "# create and add disjunctive constraints\n",
    "for classs in all_classes:\n",
    "    model.AddNoOverlap(class_to_interval[classs])\n",
    "\n",
    "\n",
    "# add precedence constraints -> precedences between lessons\n",
    "for lesson_id, lesson in enumerate(lessons_data):\n",
    "    for i in conflict_dict[lesson_id]:\n",
    "        model.Add(all_numbers[lesson_id, 0].start != all_numbers[i, 0].start)\n",
    "    for number_id in range(len(lesson) - 1):\n",
    "        model.Add(all_numbers[lesson_id, number_id + 1].start >= all_numbers[lesson_id, number_id].end)\n",
    "\n",
    "\n",
    "# no conflicts constraint\n",
    "for elem in conflict_dict:\n",
    "    for i in conflict_dict[elem]:\n",
    "        model.Add(all_numbers[elem, 0].start != all_numbers[i, 0].start)\n",
    "        model.Add(all_numbers[elem, 0].start != all_numbers[i, 1].start)\n",
    "        model.Add(all_numbers[elem, 1].start != all_numbers[i, 0].start)\n",
    "        model.Add(all_numbers[elem, 1].start != all_numbers[i, 1].start)\n",
    "\n",
    "\n",
    "# creates the solver and solve\n",
    "solver = cp_model.CpSolver()\n",
    "status = solver.Solve(model)\n",
    "\n",
    "if status == cp_model.OPTIMAL:\n",
    "    # create one list of assigned numbers per class\n",
    "    assigned_lessons = collections.defaultdict(list)\n",
    "    for lesson_id, lesson in enumerate(lessons_data):\n",
    "        for number_id, number in enumerate(lesson):\n",
    "            classs = number[0]\n",
    "            assigned_lessons[classs].append(\n",
    "                assigned_number_type(start=solver.Value(\n",
    "                    all_numbers[lesson_id, number_id].start),\n",
    "                                    lesson=lesson_id,\n",
    "                                    index=number_id,\n",
    "                                    duration=number[1]))\n",
    "\n",
    "\n",
    "    for classs in all_classes:\n",
    "        # sort by starting time\n",
    "        assigned_lessons[classs].sort()\n",
    "        row = []\n",
    "        for assigned_number in assigned_lessons[classs]:\n",
    "            row.append([assigned_number.lesson, assigned_number.start])\n",
    "\n",
    "            start = assigned_number.start\n",
    "            duration = assigned_number.duration\n",
    "        for elem in row:\n",
    "            timetable_s2.iloc[classs, elem[1]] = elem[0]\n",
    "\n",
    "\n",
    "    print('  - conflicts: %i' % solver.NumConflicts())\n",
    "    print('  - wall time: %f s' % solver.WallTime())\n",
    "else:\n",
    "    print('No solution found.')\n",
    "\n"
   ]
  },
  {
   "cell_type": "code",
   "execution_count": 14,
   "metadata": {
    "id": "9i0gtH3cG-eJ"
   },
   "outputs": [],
   "source": [
    "timetable_s2 = timetable_s2.transpose()"
   ]
  },
  {
   "cell_type": "code",
   "execution_count": 15,
   "metadata": {
    "id": "q5UpsdzkG-eJ"
   },
   "outputs": [],
   "source": [
    "timetable_s2.columns = classes\n",
    "for i in range(len(timetable_s2)):\n",
    "  for j in range(len(classes)):\n",
    "    if not pd.isna(timetable_s2.iloc[i,j]):\n",
    "      timetable_s2.iloc[i,j] = courses[timetable_s2.iloc[i,j]]\n",
    "    else:\n",
    "      timetable_s2.iloc[i,j] = '*'"
   ]
  },
  {
   "cell_type": "code",
   "execution_count": 16,
   "metadata": {
    "id": "Fq2uWX3VG-eK"
   },
   "outputs": [
    {
     "data": {
      "text/html": [
       "<div>\n",
       "<style scoped>\n",
       "    .dataframe tbody tr th:only-of-type {\n",
       "        vertical-align: middle;\n",
       "    }\n",
       "\n",
       "    .dataframe tbody tr th {\n",
       "        vertical-align: top;\n",
       "    }\n",
       "\n",
       "    .dataframe thead th {\n",
       "        text-align: right;\n",
       "    }\n",
       "</style>\n",
       "<table border=\"1\" class=\"dataframe\">\n",
       "  <thead>\n",
       "    <tr style=\"text-align: right;\">\n",
       "      <th></th>\n",
       "      <th>SALA UAC A1 42/13</th>\n",
       "      <th>SALA UAC AT 48/43</th>\n",
       "      <th>SALA UAC AT 48/40</th>\n",
       "      <th>SALA UAC A1 48/23</th>\n",
       "    </tr>\n",
       "  </thead>\n",
       "  <tbody>\n",
       "    <tr>\n",
       "      <th>Monday 8-10</th>\n",
       "      <td>*</td>\n",
       "      <td>*</td>\n",
       "      <td>Modern History 1</td>\n",
       "      <td>*</td>\n",
       "    </tr>\n",
       "    <tr>\n",
       "      <th>Monday 10-12</th>\n",
       "      <td>Pharmacology 1</td>\n",
       "      <td>Analyzes Methodologies Texts In Spanish</td>\n",
       "      <td>*</td>\n",
       "      <td>Development Applications</td>\n",
       "    </tr>\n",
       "    <tr>\n",
       "      <th>Monday 12-14</th>\n",
       "      <td>*</td>\n",
       "      <td>Philosophy Philosophy Of Teaching</td>\n",
       "      <td>*</td>\n",
       "      <td>*</td>\n",
       "    </tr>\n",
       "    <tr>\n",
       "      <th>Monday 14-16</th>\n",
       "      <td>*</td>\n",
       "      <td>*</td>\n",
       "      <td>*</td>\n",
       "      <td>*</td>\n",
       "    </tr>\n",
       "    <tr>\n",
       "      <th>Monday 16-18</th>\n",
       "      <td>*</td>\n",
       "      <td>*</td>\n",
       "      <td>*</td>\n",
       "      <td>*</td>\n",
       "    </tr>\n",
       "    <tr>\n",
       "      <th>Tuesday 8-10</th>\n",
       "      <td>Physical Geography 2: Meteorology And Climatology</td>\n",
       "      <td>Geological Technical Drawing</td>\n",
       "      <td>*</td>\n",
       "      <td>Environmental Benefit Analysis Cost Of Projects</td>\n",
       "    </tr>\n",
       "    <tr>\n",
       "      <th>Tuesday 10-12</th>\n",
       "      <td>*</td>\n",
       "      <td>*</td>\n",
       "      <td>*</td>\n",
       "      <td>Psychology Of Organizations</td>\n",
       "    </tr>\n",
       "    <tr>\n",
       "      <th>Tuesday 12-14</th>\n",
       "      <td>Psychological Development And Education</td>\n",
       "      <td>Social And Environmental Responsibility Manage...</td>\n",
       "      <td>*</td>\n",
       "      <td>*</td>\n",
       "    </tr>\n",
       "    <tr>\n",
       "      <th>Tuesday 14-16</th>\n",
       "      <td>*</td>\n",
       "      <td>Creativity And Intuition In Knowledge Of Produ...</td>\n",
       "      <td>*</td>\n",
       "      <td>*</td>\n",
       "    </tr>\n",
       "    <tr>\n",
       "      <th>Tuesday 16-18</th>\n",
       "      <td>*</td>\n",
       "      <td>Chinese Language 1</td>\n",
       "      <td>Pharmacology 2</td>\n",
       "      <td>*</td>\n",
       "    </tr>\n",
       "    <tr>\n",
       "      <th>Wednesday 8-10</th>\n",
       "      <td>*</td>\n",
       "      <td>*</td>\n",
       "      <td>*</td>\n",
       "      <td>*</td>\n",
       "    </tr>\n",
       "    <tr>\n",
       "      <th>Wednesday 10-12</th>\n",
       "      <td>Teaching Supervised 3</td>\n",
       "      <td>Trauma And Prosthesis Oral And Maxillofacial</td>\n",
       "      <td>*</td>\n",
       "      <td>The French Practice Oral And Written 3</td>\n",
       "    </tr>\n",
       "    <tr>\n",
       "      <th>Wednesday 12-14</th>\n",
       "      <td>*</td>\n",
       "      <td>*</td>\n",
       "      <td>Facilities Thermomechanical 1</td>\n",
       "      <td>*</td>\n",
       "    </tr>\n",
       "    <tr>\n",
       "      <th>Wednesday 14-16</th>\n",
       "      <td>*</td>\n",
       "      <td>*</td>\n",
       "      <td>Internship 3</td>\n",
       "      <td>*</td>\n",
       "    </tr>\n",
       "    <tr>\n",
       "      <th>Wednesday 16-18</th>\n",
       "      <td>Latin 1</td>\n",
       "      <td>*</td>\n",
       "      <td>*</td>\n",
       "      <td>*</td>\n",
       "    </tr>\n",
       "    <tr>\n",
       "      <th>Thursday 8-10</th>\n",
       "      <td>*</td>\n",
       "      <td>Concurrent Programming</td>\n",
       "      <td>Multilingualism In Cyberspace</td>\n",
       "      <td>*</td>\n",
       "    </tr>\n",
       "    <tr>\n",
       "      <th>Thursday 10-12</th>\n",
       "      <td>*</td>\n",
       "      <td>The Japanese Practice Oral And Written 4</td>\n",
       "      <td>History Of America 2</td>\n",
       "      <td>*</td>\n",
       "    </tr>\n",
       "    <tr>\n",
       "      <th>Thursday 12-14</th>\n",
       "      <td>*</td>\n",
       "      <td>Linguistic Variation In Brazil</td>\n",
       "      <td>*</td>\n",
       "      <td>The Public Sector Economy</td>\n",
       "    </tr>\n",
       "    <tr>\n",
       "      <th>Thursday 14-16</th>\n",
       "      <td>*</td>\n",
       "      <td>The Toxicology Applied Pharmacy</td>\n",
       "      <td>*</td>\n",
       "      <td>Quantitative Economics 2</td>\n",
       "    </tr>\n",
       "    <tr>\n",
       "      <th>Thursday 16-18</th>\n",
       "      <td>*</td>\n",
       "      <td>Chinese Language 1</td>\n",
       "      <td>*</td>\n",
       "      <td>*</td>\n",
       "    </tr>\n",
       "    <tr>\n",
       "      <th>Friday 8-10</th>\n",
       "      <td>*</td>\n",
       "      <td>*</td>\n",
       "      <td>Mathematics 1</td>\n",
       "      <td>*</td>\n",
       "    </tr>\n",
       "    <tr>\n",
       "      <th>Friday 10-12</th>\n",
       "      <td>Historical Geology</td>\n",
       "      <td>*</td>\n",
       "      <td>*</td>\n",
       "      <td>Dental Clinic 5</td>\n",
       "    </tr>\n",
       "    <tr>\n",
       "      <th>Friday 12-14</th>\n",
       "      <td>*</td>\n",
       "      <td>*</td>\n",
       "      <td>*</td>\n",
       "      <td>*</td>\n",
       "    </tr>\n",
       "    <tr>\n",
       "      <th>Friday 14-16</th>\n",
       "      <td>*</td>\n",
       "      <td>*</td>\n",
       "      <td>Right Of Duties</td>\n",
       "      <td>*</td>\n",
       "    </tr>\n",
       "    <tr>\n",
       "      <th>Friday 16-18</th>\n",
       "      <td>*</td>\n",
       "      <td>*</td>\n",
       "      <td>*</td>\n",
       "      <td>*</td>\n",
       "    </tr>\n",
       "  </tbody>\n",
       "</table>\n",
       "</div>"
      ],
      "text/plain": [
       "                                                 SALA UAC A1 42/13  \\\n",
       "Monday 8-10                                                      *   \n",
       "Monday 10-12                                        Pharmacology 1   \n",
       "Monday 12-14                                                     *   \n",
       "Monday 14-16                                                     *   \n",
       "Monday 16-18                                                     *   \n",
       "Tuesday 8-10     Physical Geography 2: Meteorology And Climatology   \n",
       "Tuesday 10-12                                                    *   \n",
       "Tuesday 12-14              Psychological Development And Education   \n",
       "Tuesday 14-16                                                    *   \n",
       "Tuesday 16-18                                                    *   \n",
       "Wednesday 8-10                                                   *   \n",
       "Wednesday 10-12                              Teaching Supervised 3   \n",
       "Wednesday 12-14                                                  *   \n",
       "Wednesday 14-16                                                  *   \n",
       "Wednesday 16-18                                            Latin 1   \n",
       "Thursday 8-10                                                    *   \n",
       "Thursday 10-12                                                   *   \n",
       "Thursday 12-14                                                   *   \n",
       "Thursday 14-16                                                   *   \n",
       "Thursday 16-18                                                   *   \n",
       "Friday 8-10                                                      *   \n",
       "Friday 10-12                                    Historical Geology   \n",
       "Friday 12-14                                                     *   \n",
       "Friday 14-16                                                     *   \n",
       "Friday 16-18                                                     *   \n",
       "\n",
       "                                                 SALA UAC AT 48/43  \\\n",
       "Monday 8-10                                                      *   \n",
       "Monday 10-12               Analyzes Methodologies Texts In Spanish   \n",
       "Monday 12-14                     Philosophy Philosophy Of Teaching   \n",
       "Monday 14-16                                                     *   \n",
       "Monday 16-18                                                     *   \n",
       "Tuesday 8-10                          Geological Technical Drawing   \n",
       "Tuesday 10-12                                                    *   \n",
       "Tuesday 12-14    Social And Environmental Responsibility Manage...   \n",
       "Tuesday 14-16    Creativity And Intuition In Knowledge Of Produ...   \n",
       "Tuesday 16-18                                   Chinese Language 1   \n",
       "Wednesday 8-10                                                   *   \n",
       "Wednesday 10-12       Trauma And Prosthesis Oral And Maxillofacial   \n",
       "Wednesday 12-14                                                  *   \n",
       "Wednesday 14-16                                                  *   \n",
       "Wednesday 16-18                                                  *   \n",
       "Thursday 8-10                               Concurrent Programming   \n",
       "Thursday 10-12            The Japanese Practice Oral And Written 4   \n",
       "Thursday 12-14                      Linguistic Variation In Brazil   \n",
       "Thursday 14-16                     The Toxicology Applied Pharmacy   \n",
       "Thursday 16-18                                  Chinese Language 1   \n",
       "Friday 8-10                                                      *   \n",
       "Friday 10-12                                                     *   \n",
       "Friday 12-14                                                     *   \n",
       "Friday 14-16                                                     *   \n",
       "Friday 16-18                                                     *   \n",
       "\n",
       "                             SALA UAC AT 48/40  \\\n",
       "Monday 8-10                   Modern History 1   \n",
       "Monday 10-12                                 *   \n",
       "Monday 12-14                                 *   \n",
       "Monday 14-16                                 *   \n",
       "Monday 16-18                                 *   \n",
       "Tuesday 8-10                                 *   \n",
       "Tuesday 10-12                                *   \n",
       "Tuesday 12-14                                *   \n",
       "Tuesday 14-16                                *   \n",
       "Tuesday 16-18                   Pharmacology 2   \n",
       "Wednesday 8-10                               *   \n",
       "Wednesday 10-12                              *   \n",
       "Wednesday 12-14  Facilities Thermomechanical 1   \n",
       "Wednesday 14-16                   Internship 3   \n",
       "Wednesday 16-18                              *   \n",
       "Thursday 8-10    Multilingualism In Cyberspace   \n",
       "Thursday 10-12            History Of America 2   \n",
       "Thursday 12-14                               *   \n",
       "Thursday 14-16                               *   \n",
       "Thursday 16-18                               *   \n",
       "Friday 8-10                      Mathematics 1   \n",
       "Friday 10-12                                 *   \n",
       "Friday 12-14                                 *   \n",
       "Friday 14-16                   Right Of Duties   \n",
       "Friday 16-18                                 *   \n",
       "\n",
       "                                               SALA UAC A1 48/23  \n",
       "Monday 8-10                                                    *  \n",
       "Monday 10-12                            Development Applications  \n",
       "Monday 12-14                                                   *  \n",
       "Monday 14-16                                                   *  \n",
       "Monday 16-18                                                   *  \n",
       "Tuesday 8-10     Environmental Benefit Analysis Cost Of Projects  \n",
       "Tuesday 10-12                        Psychology Of Organizations  \n",
       "Tuesday 12-14                                                  *  \n",
       "Tuesday 14-16                                                  *  \n",
       "Tuesday 16-18                                                  *  \n",
       "Wednesday 8-10                                                 *  \n",
       "Wednesday 10-12           The French Practice Oral And Written 3  \n",
       "Wednesday 12-14                                                *  \n",
       "Wednesday 14-16                                                *  \n",
       "Wednesday 16-18                                                *  \n",
       "Thursday 8-10                                                  *  \n",
       "Thursday 10-12                                                 *  \n",
       "Thursday 12-14                         The Public Sector Economy  \n",
       "Thursday 14-16                          Quantitative Economics 2  \n",
       "Thursday 16-18                                                 *  \n",
       "Friday 8-10                                                    *  \n",
       "Friday 10-12                                     Dental Clinic 5  \n",
       "Friday 12-14                                                   *  \n",
       "Friday 14-16                                                   *  \n",
       "Friday 16-18                                                   *  "
      ]
     },
     "execution_count": 16,
     "metadata": {},
     "output_type": "execute_result"
    }
   ],
   "source": [
    "new_tt = timetable_s2.copy() # working timetable\n",
    "\n",
    "final_tt2 = timetable_s2.copy() # final timetable\n",
    "current = check_soft(final_tt2) # value of the final\n",
    "\n",
    "for tts in range(100):\n",
    "  new = random.sample(range(25), 25) # random permutation\n",
    "  for i in range(25):\n",
    "    new_tt.iloc[i] = timetable_s2.iloc[new[i]]\n",
    "  value = check_soft(new_tt) # checking the value of the permutation\n",
    "  if value > current: # saving it if it's better\n",
    "    final_tt2 = new_tt.copy()\n",
    "    current = value\n",
    "\n",
    "end_2 = time.time()\n",
    "final_tt2.iloc[:,0:4]"
   ]
  },
  {
   "cell_type": "markdown",
   "metadata": {
    "id": "5YGbvJw8TrOR"
   },
   "source": [
    "Unique courses in the first semester:"
   ]
  },
  {
   "cell_type": "code",
   "execution_count": 17,
   "metadata": {
    "id": "KJR_t2DVTLIw"
   },
   "outputs": [
    {
     "data": {
      "text/plain": [
       "1123"
      ]
     },
     "execution_count": 17,
     "metadata": {},
     "output_type": "execute_result"
    }
   ],
   "source": [
    "n_courses_1"
   ]
  },
  {
   "cell_type": "markdown",
   "metadata": {
    "id": "BMGBm2_TXpaH"
   },
   "source": [
    "Computational time for first semester"
   ]
  },
  {
   "cell_type": "code",
   "execution_count": 18,
   "metadata": {
    "id": "IKDflgepXtGP"
   },
   "outputs": [
    {
     "data": {
      "text/plain": [
       "8.959065914154053"
      ]
     },
     "execution_count": 18,
     "metadata": {},
     "output_type": "execute_result"
    }
   ],
   "source": [
    "end_1-start_1"
   ]
  },
  {
   "cell_type": "markdown",
   "metadata": {
    "id": "iANbbrPzTwSg"
   },
   "source": [
    "Unique courses in the second semester:"
   ]
  },
  {
   "cell_type": "code",
   "execution_count": 19,
   "metadata": {
    "id": "ZOOSHMV1TNFa"
   },
   "outputs": [
    {
     "data": {
      "text/plain": [
       "976"
      ]
     },
     "execution_count": 19,
     "metadata": {},
     "output_type": "execute_result"
    }
   ],
   "source": [
    "n_courses_2"
   ]
  },
  {
   "cell_type": "markdown",
   "metadata": {
    "id": "SCINu-nFXyiD"
   },
   "source": [
    "Computational time for second semester:"
   ]
  },
  {
   "cell_type": "code",
   "execution_count": 20,
   "metadata": {
    "id": "fSJrDLU-X1kv"
   },
   "outputs": [
    {
     "data": {
      "text/plain": [
       "8.330932855606079"
      ]
     },
     "execution_count": 20,
     "metadata": {},
     "output_type": "execute_result"
    }
   ],
   "source": [
    "end_2-start_2"
   ]
  },
  {
   "cell_type": "markdown",
   "metadata": {
    "id": "lngPkh6RHdCS"
   },
   "source": [
    "## STUDENT FUNCTION"
   ]
  },
  {
   "cell_type": "markdown",
   "metadata": {
    "id": "kXuiBLwll5aS"
   },
   "source": [
    "Function that returns the timetable of each student for semester 1 or 2"
   ]
  },
  {
   "cell_type": "code",
   "execution_count": 21,
   "metadata": {
    "id": "KtwDLFShef3C"
   },
   "outputs": [],
   "source": [
    "def timetable(student_id, semester):\n",
    "    basic_tt = pd.DataFrame(columns = ['Monday','Tuesday','Wednesday','Thursday','Friday'], index = ['8-10','10-12','12-14','14-16','16-18'])\n",
    "    if semester == 1:\n",
    "        df_stu = semester_1[semester_1['student_id'] == student_id]\n",
    "        courses_to_follow = df_stu['course'].unique()\n",
    "        for i in range(len(slots)):\n",
    "            for j in range(len(classes)):\n",
    "                course = final_tt1.iloc[i,j]\n",
    "                if course in courses_to_follow:\n",
    "                    values = slots[i].split()\n",
    "                    basic_tt[values[0]][values[1]] = course, classes[j]\n",
    "    else:\n",
    "        df_stu = semester_2[semester_2['student_id'] == student_id]\n",
    "        courses_to_follow = df_stu['course'].unique()\n",
    "        for i in range(len(slots)):\n",
    "            for j in range(len(classes)):\n",
    "                course = final_tt2.iloc[i,j]\n",
    "                if course in courses_to_follow:\n",
    "                    values = slots[i].split()\n",
    "                    basic_tt[values[0]][values[1]] = course, classes[j]\n",
    "    basic_tt.fillna('*', inplace=True)\n",
    "    return basic_tt"
   ]
  },
  {
   "cell_type": "markdown",
   "metadata": {
    "id": "bt5PD6W5mD7t"
   },
   "source": [
    "Example with a random student:"
   ]
  },
  {
   "cell_type": "code",
   "execution_count": 22,
   "metadata": {
    "id": "VioC-jACNo6I"
   },
   "outputs": [],
   "source": [
    "pos = random.sample(range(len(df)),1)\n",
    "random_student = int(df.iloc[pos]['student_id'])"
   ]
  },
  {
   "cell_type": "code",
   "execution_count": 23,
   "metadata": {
    "id": "EK8L0jQoG3QR"
   },
   "outputs": [
    {
     "data": {
      "text/html": [
       "<div>\n",
       "<style scoped>\n",
       "    .dataframe tbody tr th:only-of-type {\n",
       "        vertical-align: middle;\n",
       "    }\n",
       "\n",
       "    .dataframe tbody tr th {\n",
       "        vertical-align: top;\n",
       "    }\n",
       "\n",
       "    .dataframe thead th {\n",
       "        text-align: right;\n",
       "    }\n",
       "</style>\n",
       "<table border=\"1\" class=\"dataframe\">\n",
       "  <thead>\n",
       "    <tr style=\"text-align: right;\">\n",
       "      <th></th>\n",
       "      <th>Monday</th>\n",
       "      <th>Tuesday</th>\n",
       "      <th>Wednesday</th>\n",
       "      <th>Thursday</th>\n",
       "      <th>Friday</th>\n",
       "    </tr>\n",
       "  </thead>\n",
       "  <tbody>\n",
       "    <tr>\n",
       "      <th>8-10</th>\n",
       "      <td>*</td>\n",
       "      <td>(Commercial Law, SALA BSA SUL BT 11/10)</td>\n",
       "      <td>*</td>\n",
       "      <td>*</td>\n",
       "      <td>(Commercial Law, SALA AT 127/7)</td>\n",
       "    </tr>\n",
       "    <tr>\n",
       "      <th>10-12</th>\n",
       "      <td>*</td>\n",
       "      <td>*</td>\n",
       "      <td>*</td>\n",
       "      <td>*</td>\n",
       "      <td>*</td>\n",
       "    </tr>\n",
       "    <tr>\n",
       "      <th>12-14</th>\n",
       "      <td>*</td>\n",
       "      <td>*</td>\n",
       "      <td>*</td>\n",
       "      <td>*</td>\n",
       "      <td>*</td>\n",
       "    </tr>\n",
       "    <tr>\n",
       "      <th>14-16</th>\n",
       "      <td>*</td>\n",
       "      <td>(Costs, SALA FA A1 08                         ...</td>\n",
       "      <td>*</td>\n",
       "      <td>(General Accounting 3, SALA PAT AT 132        ...</td>\n",
       "      <td>(General Accounting 3, SALA PAT AT 092        ...</td>\n",
       "    </tr>\n",
       "    <tr>\n",
       "      <th>16-18</th>\n",
       "      <td>*</td>\n",
       "      <td>*</td>\n",
       "      <td>(Costs, SALA FA A1 15                         ...</td>\n",
       "      <td>*</td>\n",
       "      <td>*</td>\n",
       "    </tr>\n",
       "  </tbody>\n",
       "</table>\n",
       "</div>"
      ],
      "text/plain": [
       "      Monday                                            Tuesday  \\\n",
       "8-10       *            (Commercial Law, SALA BSA SUL BT 11/10)   \n",
       "10-12      *                                                  *   \n",
       "12-14      *                                                  *   \n",
       "14-16      *  (Costs, SALA FA A1 08                         ...   \n",
       "16-18      *                                                  *   \n",
       "\n",
       "                                               Wednesday  \\\n",
       "8-10                                                   *   \n",
       "10-12                                                  *   \n",
       "12-14                                                  *   \n",
       "14-16                                                  *   \n",
       "16-18  (Costs, SALA FA A1 15                         ...   \n",
       "\n",
       "                                                Thursday  \\\n",
       "8-10                                                   *   \n",
       "10-12                                                  *   \n",
       "12-14                                                  *   \n",
       "14-16  (General Accounting 3, SALA PAT AT 132        ...   \n",
       "16-18                                                  *   \n",
       "\n",
       "                                                  Friday  \n",
       "8-10                     (Commercial Law, SALA AT 127/7)  \n",
       "10-12                                                  *  \n",
       "12-14                                                  *  \n",
       "14-16  (General Accounting 3, SALA PAT AT 092        ...  \n",
       "16-18                                                  *  "
      ]
     },
     "execution_count": 23,
     "metadata": {},
     "output_type": "execute_result"
    }
   ],
   "source": [
    "timetable(random_student, 1)"
   ]
  },
  {
   "cell_type": "code",
   "execution_count": 24,
   "metadata": {
    "id": "c8bYsoIUfptC"
   },
   "outputs": [
    {
     "data": {
      "text/html": [
       "<div>\n",
       "<style scoped>\n",
       "    .dataframe tbody tr th:only-of-type {\n",
       "        vertical-align: middle;\n",
       "    }\n",
       "\n",
       "    .dataframe tbody tr th {\n",
       "        vertical-align: top;\n",
       "    }\n",
       "\n",
       "    .dataframe thead th {\n",
       "        text-align: right;\n",
       "    }\n",
       "</style>\n",
       "<table border=\"1\" class=\"dataframe\">\n",
       "  <thead>\n",
       "    <tr style=\"text-align: right;\">\n",
       "      <th></th>\n",
       "      <th>Monday</th>\n",
       "      <th>Tuesday</th>\n",
       "      <th>Wednesday</th>\n",
       "      <th>Thursday</th>\n",
       "      <th>Friday</th>\n",
       "    </tr>\n",
       "  </thead>\n",
       "  <tbody>\n",
       "    <tr>\n",
       "      <th>8-10</th>\n",
       "      <td>*</td>\n",
       "      <td>*</td>\n",
       "      <td>*</td>\n",
       "      <td>*</td>\n",
       "      <td>*</td>\n",
       "    </tr>\n",
       "    <tr>\n",
       "      <th>10-12</th>\n",
       "      <td>*</td>\n",
       "      <td>*</td>\n",
       "      <td>*</td>\n",
       "      <td>*</td>\n",
       "      <td>*</td>\n",
       "    </tr>\n",
       "    <tr>\n",
       "      <th>12-14</th>\n",
       "      <td>*</td>\n",
       "      <td>(Economic And Financial Analysis 1, SALA PJC B...</td>\n",
       "      <td>*</td>\n",
       "      <td>*</td>\n",
       "      <td>*</td>\n",
       "    </tr>\n",
       "    <tr>\n",
       "      <th>14-16</th>\n",
       "      <td>*</td>\n",
       "      <td>*</td>\n",
       "      <td>*</td>\n",
       "      <td>*</td>\n",
       "      <td>*</td>\n",
       "    </tr>\n",
       "    <tr>\n",
       "      <th>16-18</th>\n",
       "      <td>(Accounting Information Systems, SALA BSA NORT...</td>\n",
       "      <td>*</td>\n",
       "      <td>(Accounting Information Systems, SALA PJC BT 1...</td>\n",
       "      <td>*</td>\n",
       "      <td>(Economic And Financial Analysis 1, SALA PJC B...</td>\n",
       "    </tr>\n",
       "  </tbody>\n",
       "</table>\n",
       "</div>"
      ],
      "text/plain": [
       "                                                  Monday  \\\n",
       "8-10                                                   *   \n",
       "10-12                                                  *   \n",
       "12-14                                                  *   \n",
       "14-16                                                  *   \n",
       "16-18  (Accounting Information Systems, SALA BSA NORT...   \n",
       "\n",
       "                                                 Tuesday  \\\n",
       "8-10                                                   *   \n",
       "10-12                                                  *   \n",
       "12-14  (Economic And Financial Analysis 1, SALA PJC B...   \n",
       "14-16                                                  *   \n",
       "16-18                                                  *   \n",
       "\n",
       "                                               Wednesday Thursday  \\\n",
       "8-10                                                   *        *   \n",
       "10-12                                                  *        *   \n",
       "12-14                                                  *        *   \n",
       "14-16                                                  *        *   \n",
       "16-18  (Accounting Information Systems, SALA PJC BT 1...        *   \n",
       "\n",
       "                                                  Friday  \n",
       "8-10                                                   *  \n",
       "10-12                                                  *  \n",
       "12-14                                                  *  \n",
       "14-16                                                  *  \n",
       "16-18  (Economic And Financial Analysis 1, SALA PJC B...  "
      ]
     },
     "execution_count": 24,
     "metadata": {},
     "output_type": "execute_result"
    }
   ],
   "source": [
    "timetable(random_student, 2)"
   ]
  },
  {
   "cell_type": "markdown",
   "metadata": {
    "id": "3ci-nJOvElwt"
   },
   "source": [
    "## ASSESSMENT OF RESULTS"
   ]
  },
  {
   "cell_type": "markdown",
   "metadata": {
    "id": "OOlAbAAmmIV_"
   },
   "source": [
    "Checking how many rooms are occupied inside the university for each time-slot."
   ]
  },
  {
   "cell_type": "code",
   "execution_count": 25,
   "metadata": {
    "id": "6Mf3ClN_Er55"
   },
   "outputs": [],
   "source": [
    "busyrooms_s1_before = []\n",
    "busyrooms_s2_before = []\n",
    "busyrooms_s1_after = []\n",
    "busyrooms_s2_after = []\n",
    "\n",
    "for i in range(25):\n",
    "  busyrooms_s1_after.append(sum(final_tt1.iloc[i] != '*')/len(classes)*100)\n",
    "  busyrooms_s2_after.append(sum(final_tt2.iloc[i] != '*')/len(classes)*100)\n",
    "  busyrooms_s1_before.append(sum(timetable_s1.iloc[i] != '*')/len(classes)*100)\n",
    "  busyrooms_s2_before.append(sum(timetable_s2.iloc[i] != '*')/len(classes)*100)\n"
   ]
  },
  {
   "cell_type": "markdown",
   "metadata": {
    "id": "IBfL-ODCd7Ij"
   },
   "source": [
    "Percentual of room occupation in the university in the first semester before the permutation:"
   ]
  },
  {
   "cell_type": "code",
   "execution_count": 26,
   "metadata": {
    "id": "cTapRW3RFJO4"
   },
   "outputs": [
    {
     "data": {
      "image/png": "[encoded data removed]",
      "text/plain": [
       "<Figure size 640x480 with 1 Axes>"
      ]
     },
     "metadata": {},
     "output_type": "display_data"
    }
   ],
   "source": [
    "import matplotlib.pyplot as plt\n",
    "\n",
    "plt.plot(slots,busyrooms_s1_before)\n",
    "plt.xticks(fontsize = 10, rotation = 90)\n",
    "plt.ylabel(\"% of rooms occupation\")\n",
    "plt.show()"
   ]
  },
  {
   "cell_type": "markdown",
   "metadata": {
    "id": "NKvCcqnLeG_w"
   },
   "source": [
    "Percentual of room occupation in the university in the first semester after the permutation:"
   ]
  },
  {
   "cell_type": "code",
   "execution_count": 27,
   "metadata": {
    "id": "mTSl0o52WuAw"
   },
   "outputs": [
    {
     "data": {
      "image/png": "[encoded data removed]",
      "text/plain": [
       "<Figure size 640x480 with 1 Axes>"
      ]
     },
     "metadata": {},
     "output_type": "display_data"
    }
   ],
   "source": [
    "plt.plot(slots,busyrooms_s1_after)\n",
    "plt.xticks(fontsize = 10, rotation = 90)\n",
    "plt.ylabel(\"% of rooms occupation\")\n",
    "plt.show()"
   ]
  },
  {
   "cell_type": "markdown",
   "metadata": {
    "id": "fU-VvSFzeIlC"
   },
   "source": [
    "Percentual of room occupation in the university in the second semester before the permutation:"
   ]
  },
  {
   "cell_type": "code",
   "execution_count": 28,
   "metadata": {
    "id": "q-_ktCaaFLYq"
   },
   "outputs": [
    {
     "data": {
      "image/png": "[encoded data removed]",
      "text/plain": [
       "<Figure size 640x480 with 1 Axes>"
      ]
     },
     "metadata": {},
     "output_type": "display_data"
    }
   ],
   "source": [
    "plt.plot(slots,busyrooms_s2_before)\n",
    "plt.xticks(fontsize = 10, rotation = 90)\n",
    "plt.ylabel(\"% of rooms occupation\")\n",
    "plt.show()"
   ]
  },
  {
   "cell_type": "markdown",
   "metadata": {
    "id": "toiNvmgveKpK"
   },
   "source": [
    "Percentual of room occupation in the university in the second semester after the permutation:"
   ]
  },
  {
   "cell_type": "code",
   "execution_count": 29,
   "metadata": {
    "id": "BaWE19tZW7q2"
   },
   "outputs": [
    {
     "data": {
      "image/png": "[encoded data removed]",
      "text/plain": [
       "<Figure size 640x480 with 1 Axes>"
      ]
     },
     "metadata": {},
     "output_type": "display_data"
    }
   ],
   "source": [
    "plt.plot(slots,busyrooms_s2_after)\n",
    "plt.xticks(fontsize = 10, rotation = 90)\n",
    "plt.ylabel(\"% of rooms occupation\")\n",
    "plt.show()"
   ]
  }
 ],
 "metadata": {
  "colab": {
   "provenance": []
  },
  "kernelspec": {
   "display_name": "Python 3 (ipykernel)",
   "language": "python",
   "name": "python3"
  },
  "language_info": {
   "codemirror_mode": {
    "name": "ipython",
    "version": 3
   },
   "file_extension": ".py",
   "mimetype": "text/x-python",
   "name": "python",
   "nbconvert_exporter": "python",
   "pygments_lexer": "ipython3",
   "version": "3.11.4"
  }
 },
 "nbformat": 4,
 "nbformat_minor": 1
}
